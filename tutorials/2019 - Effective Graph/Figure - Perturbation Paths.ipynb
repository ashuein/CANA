{
 "cells": [
  {
   "cell_type": "markdown",
   "metadata": {},
   "source": [
    "# Effective Graph Paper\n",
    "Code to generate \"perturbation_path\" figure "
   ]
  },
  {
   "cell_type": "code",
   "execution_count": 1,
   "metadata": {},
   "outputs": [],
   "source": [
    "%load_ext autoreload\n",
    "%autoreload 2\n",
    "%matplotlib inline"
   ]
  },
  {
   "cell_type": "code",
   "execution_count": 2,
   "metadata": {},
   "outputs": [],
   "source": [
    "import os\n",
    "import numpy as np\n",
    "import pandas as pd\n",
    "from IPython.display import Image, display\n",
    "import graphviz\n",
    "import cana\n",
    "import math\n",
    "from cana.boolean_network import BooleanNetwork\n",
    "from cana.drawing.canalizing_map import draw_canalizing_map_graphviz\n",
    "import matplotlib as mpl\n",
    "mpl.rcParams['mathtext.fontset'] = 'cm'\n",
    "mpl.rcParams['mathtext.rm'] = 'serif'\n",
    "import matplotlib.pyplot as plt\n",
    "from matplotlib.colors import LinearSegmentedColormap\n",
    "from matplotlib.text import Text\n",
    "from matplotlib.patches import Circle, Rectangle, RegularPolygon\n",
    "from matplotlib.collections import PatchCollection\n",
    "from IPython.display import display, Image, Latex, SVG, HTML\n",
    "import networkx as nx\n",
    "from copy import copy"
   ]
  },
  {
   "cell_type": "code",
   "execution_count": 3,
   "metadata": {},
   "outputs": [
    {
     "name": "stdout",
     "output_type": "stream",
     "text": [
      "<BNetwork(Name='A', N=5, Nodes=['x1', 'xa', 'xb', 'xc', 'x2'])>\n"
     ]
    }
   ],
   "source": [
    "# Graph Example\n",
    "logic = {\n",
    "    0 : {'name':r'x1', 'in':[],     'out':[1] },\n",
    "    1 : {'name':r'xa', 'in':[0],     'out':[0,0] },\n",
    "    2 : {'name':r'xb', 'in':[0,1],     'out':[0,1,0,1] },\n",
    "    3 : {'name':r'xc', 'in':[2],   'out':[0,0]},\n",
    "    4 : {'name':r'x2', 'in':[1,2,3],   'out':[0,0,1,1, 0,0,0,1]}, # [0,0,1,1, 0,0,0,1]\n",
    "}\n",
    "N = cana.boolean_network.BooleanNetwork(name='A', Nnodes=len(logic), logic=logic)\n",
    "print(N)\n",
    "\n",
    "\"\"\"\n",
    "pos = {}\n",
    "cx,cy = 1.5,1.5\n",
    "for i,deg in zip([2,1,4],np.linspace(0,360,4)):\n",
    "    r = .8\n",
    "    deg += 90\n",
    "    x, y = cx+r*math.cos(math.radians(deg)), cy+r*math.sin(math.radians(deg))\n",
    "    pos[i] = \"{:.2f},{:.2f}\".format(x,y)\n",
    "    print(pos[i])\n",
    "pos[0] = \"0.3,2.7\"\n",
    "pos[3] = \"2.7,2.6\"\n",
    "\"\"\"\n",
    "pos = {\n",
    "    0:'0.23,2.0',\n",
    "    1:'0.74,1.20',\n",
    "    2:'1.55,1.80',\n",
    "    3:'2.9,1.9',\n",
    "    4:'2.28,1.10'\n",
    "}\n",
    "\n",
    "# COlorbar\n",
    "interval = np.linspace(0.3, 1.0, 256)\n",
    "colors = plt.cm.Greys(interval)\n",
    "cmap = LinearSegmentedColormap.from_list('custom', colors)\n",
    "cmap.set_under('#A90533')\n",
    "norm = mpl.colors.Normalize(vmin=0, vmax=1)\n",
    "\n",
    "\n",
    "SG = N.structural_graph()\n",
    "EG = N.effective_graph(mode='input', bound='mean')\n",
    "nx.set_node_attributes(SG, pos, 'pos')\n",
    "nx.set_node_attributes(EG, pos, 'pos')"
   ]
  },
  {
   "cell_type": "code",
   "execution_count": 4,
   "metadata": {},
   "outputs": [
    {
     "name": "stdout",
     "output_type": "stream",
     "text": [
      "(0, {'pos': '0.23,2.0', 'label': 'x1'})\n",
      "(1, {'pos': '0.74,1.20', 'label': 'xa'})\n",
      "(2, {'pos': '1.55,1.80', 'label': 'xb'})\n",
      "(3, {'pos': '2.9,1.9', 'label': 'xc'})\n",
      "(4, {'pos': '2.28,1.10', 'label': 'x2'})\n"
     ]
    },
    {
     "data": {
      "image/svg+xml": [
       "<svg height=\"172pt\" viewBox=\"0.00 0.00 216.00 172.27\" width=\"216pt\" xmlns=\"http://www.w3.org/2000/svg\" xmlns:xlink=\"http://www.w3.org/1999/xlink\">\n",
       "<g class=\"graph\" id=\"graph0\" transform=\"scale(0.899101 0.899101) rotate(0) translate(4 187.599)\">\n",
       "<title>Structural Graph</title>\n",
       "<polygon fill=\"white\" points=\"-4,4 -4,-187.599 236.24,-187.599 236.24,4 -4,4\" stroke=\"none\"/>\n",
       "<!-- 0 -->\n",
       "<g class=\"node\" id=\"node1\"><title>0</title>\n",
       "<ellipse cx=\"20\" cy=\"-163.599\" fill=\"white\" rx=\"20\" ry=\"20\" stroke=\"#00594c\" stroke-width=\"4\"/>\n",
       "<text font-family=\"Helvetica,sans-Serif\" font-size=\"12.00\" text-anchor=\"middle\" x=\"20\" y=\"-159.999\">x1</text>\n",
       "</g>\n",
       "<!-- 1 -->\n",
       "<g class=\"node\" id=\"node2\"><title>1</title>\n",
       "<ellipse cx=\"56.72\" cy=\"-35.9554\" fill=\"white\" rx=\"20\" ry=\"20\" stroke=\"#00594c\" stroke-width=\"4\"/>\n",
       "<text font-family=\"Helvetica,sans-Serif\" font-size=\"12.00\" text-anchor=\"middle\" x=\"56.72\" y=\"-32.3554\">xa</text>\n",
       "</g>\n",
       "<!-- 0&#45;&gt;1 -->\n",
       "<g class=\"edge\" id=\"edge1\"><title>0-&gt;1</title>\n",
       "<path d=\"M25.577,-144.212C32.0204,-121.814 42.6337,-84.9211 49.6506,-60.5296\" fill=\"none\" stroke=\"black\" stroke-width=\"4\"/>\n",
       "<polygon fill=\"black\" points=\"51.3899,-60.8131 51.0905,-55.5241 48.0263,-59.8454 51.3899,-60.8131\" stroke=\"black\" stroke-width=\"4\"/>\n",
       "<text font-family=\"Times,serif\" font-size=\"14.00\" text-anchor=\"middle\" x=\"28.8638\" y=\"-105.171\">1.0</text>\n",
       "</g>\n",
       "<!-- 2 -->\n",
       "<g class=\"node\" id=\"node3\"><title>2</title>\n",
       "<ellipse cx=\"115.04\" cy=\"-131.688\" fill=\"white\" rx=\"20\" ry=\"20\" stroke=\"#00594c\" stroke-width=\"4\"/>\n",
       "<text font-family=\"Helvetica,sans-Serif\" font-size=\"12.00\" text-anchor=\"middle\" x=\"115.04\" y=\"-128.088\">xb</text>\n",
       "</g>\n",
       "<!-- 0&#45;&gt;2 -->\n",
       "<g class=\"edge\" id=\"edge2\"><title>0-&gt;2</title>\n",
       "<path d=\"M39.2328,-157.141C54.1759,-152.124 74.9866,-145.136 91.0238,-139.752\" fill=\"none\" stroke=\"black\" stroke-width=\"4\"/>\n",
       "<polygon fill=\"black\" points=\"91.6529,-141.387 95.8358,-138.136 90.5388,-138.069 91.6529,-141.387\" stroke=\"black\" stroke-width=\"4\"/>\n",
       "<text font-family=\"Times,serif\" font-size=\"14.00\" text-anchor=\"middle\" x=\"56.3783\" y=\"-151.246\">1.0</text>\n",
       "</g>\n",
       "<!-- 1&#45;&gt;2 -->\n",
       "<g class=\"edge\" id=\"edge3\"><title>1-&gt;2</title>\n",
       "<path d=\"M67.1464,-53.0705C76.7897,-68.8998 91.173,-92.5101 101.66,-109.724\" fill=\"none\" stroke=\"black\" stroke-width=\"4\"/>\n",
       "<polygon fill=\"black\" points=\"100.411,-111.039 104.507,-114.398 103.4,-109.218 100.411,-111.039\" stroke=\"black\" stroke-width=\"4\"/>\n",
       "<text font-family=\"Times,serif\" font-size=\"14.00\" text-anchor=\"middle\" x=\"75.6531\" y=\"-84.1974\">1.0</text>\n",
       "</g>\n",
       "<!-- 4 -->\n",
       "<g class=\"node\" id=\"node5\"><title>4</title>\n",
       "<ellipse cx=\"167.6\" cy=\"-20\" fill=\"white\" rx=\"20\" ry=\"20\" stroke=\"#00594c\" stroke-width=\"4\"/>\n",
       "<text font-family=\"Helvetica,sans-Serif\" font-size=\"12.00\" text-anchor=\"middle\" x=\"167.6\" y=\"-16.4\">x2</text>\n",
       "</g>\n",
       "<!-- 1&#45;&gt;4 -->\n",
       "<g class=\"edge\" id=\"edge4\"><title>1-&gt;4</title>\n",
       "<path d=\"M76.5431,-33.1029C94.9555,-30.4534 122.457,-26.496 142.416,-23.6239\" fill=\"none\" stroke=\"black\" stroke-width=\"4\"/>\n",
       "<polygon fill=\"black\" points=\"142.875,-25.326 147.575,-22.8816 142.376,-21.8617 142.875,-25.326\" stroke=\"black\" stroke-width=\"4\"/>\n",
       "<text font-family=\"Times,serif\" font-size=\"14.00\" text-anchor=\"middle\" x=\"100.73\" y=\"-31.1634\">1.0</text>\n",
       "</g>\n",
       "<!-- 3 -->\n",
       "<g class=\"node\" id=\"node4\"><title>3</title>\n",
       "<ellipse cx=\"212.24\" cy=\"-147.643\" fill=\"white\" rx=\"20\" ry=\"20\" stroke=\"#00594c\" stroke-width=\"4\"/>\n",
       "<text font-family=\"Helvetica,sans-Serif\" font-size=\"12.00\" text-anchor=\"middle\" x=\"212.24\" y=\"-144.043\">xc</text>\n",
       "</g>\n",
       "<!-- 2&#45;&gt;3 -->\n",
       "<g class=\"edge\" id=\"edge5\"><title>2-&gt;3</title>\n",
       "<path d=\"M135.18,-134.994C150.267,-137.471 171.005,-140.875 187.168,-143.528\" fill=\"none\" stroke=\"black\" stroke-width=\"4\"/>\n",
       "<polygon fill=\"black\" points=\"187.241,-145.313 192.458,-144.396 187.808,-141.859 187.241,-145.313\" stroke=\"black\" stroke-width=\"4\"/>\n",
       "<text font-family=\"Times,serif\" font-size=\"14.00\" text-anchor=\"middle\" x=\"152.424\" y=\"-142.061\">1.0</text>\n",
       "</g>\n",
       "<!-- 2&#45;&gt;4 -->\n",
       "<g class=\"edge\" id=\"edge6\"><title>2-&gt;4</title>\n",
       "<path d=\"M123.719,-113.245C132.827,-93.8908 147.155,-63.4442 156.944,-42.6445\" fill=\"none\" stroke=\"black\" stroke-width=\"4\"/>\n",
       "<polygon fill=\"black\" points=\"158.537,-43.3691 159.082,-38.0998 155.37,-41.8787 158.537,-43.3691\" stroke=\"black\" stroke-width=\"4\"/>\n",
       "<text font-family=\"Times,serif\" font-size=\"14.00\" text-anchor=\"middle\" x=\"131.581\" y=\"-80.7447\">1.0</text>\n",
       "</g>\n",
       "<!-- 3&#45;&gt;4 -->\n",
       "<g class=\"edge\" id=\"edge7\"><title>3-&gt;4</title>\n",
       "<path d=\"M205.557,-128.534C197.7,-106.068 184.649,-68.7492 176.085,-44.2609\" fill=\"none\" stroke=\"black\" stroke-width=\"4\"/>\n",
       "<polygon fill=\"black\" points=\"177.631,-43.3821 174.329,-39.2401 174.328,-44.5376 177.631,-43.3821\" stroke=\"black\" stroke-width=\"4\"/>\n",
       "<text font-family=\"Times,serif\" font-size=\"14.00\" text-anchor=\"middle\" x=\"182.071\" y=\"-89.1974\">1.0</text>\n",
       "</g>\n",
       "</g>\n",
       "</svg>"
      ],
      "text/plain": [
       "<IPython.core.display.SVG object>"
      ]
     },
     "metadata": {
      "isolated": true
     },
     "output_type": "display_data"
    },
    {
     "data": {
      "text/plain": [
       "u'/Users/rionbr/Sites/CANA/tutorials/2019 - Effective Graph/figure-perturb/SG.svg'"
      ]
     },
     "execution_count": 4,
     "metadata": {},
     "output_type": "execute_result"
    }
   ],
   "source": [
    "S = graphviz.Digraph(name='Structural Graph', engine='neato')\n",
    "S.attr('graph', size='3,3', concentrate='false', simplify='false', overlap='false',splines='false',ratio='1')\n",
    "S.attr('node', pin='true', shape='circle', fixedsize='true', width='.55', color='#00594c', style='filled', fillcolor='#515660', penwidth='4', fontname='Helvetica', fontcolor='black',fontsize='12')\n",
    "S.attr('edge', arrowhead='normal', arrowsize='.5', color='black', penwidth='4')\n",
    "\n",
    "for nid,d in SG.nodes(data=True):\n",
    "    print(nid,d)\n",
    "    nid = str(nid)\n",
    "    label = str(d['label'])\n",
    "    pos = d['pos']\n",
    "    fillcolor = 'white'\n",
    "    S.node(nid, label=label, pos=pos, fillcolor=fillcolor)\n",
    "\n",
    "for uid,vid,d in SG.edges(data=True):\n",
    "    uid = str(uid)\n",
    "    vid = str(vid)\n",
    "    label = str(d['weight'])\n",
    "    S.edge(uid, vid, label=label)\n",
    "    \n",
    "display(SVG(S.pipe(format='svg')),metadata={'isolated':True})\n",
    "# Export\n",
    "S._format = 'svg'\n",
    "efile = u\"{path:s}/Figure-perturbations/SG\".format(path=os.getcwd())\n",
    "S.render(efile, cleanup=True)"
   ]
  },
  {
   "cell_type": "code",
   "execution_count": 5,
   "metadata": {},
   "outputs": [
    {
     "data": {
      "image/svg+xml": [
       "<svg height=\"172pt\" viewBox=\"0.00 0.00 216.00 172.27\" width=\"216pt\" xmlns=\"http://www.w3.org/2000/svg\" xmlns:xlink=\"http://www.w3.org/1999/xlink\">\n",
       "<g class=\"graph\" id=\"graph0\" transform=\"scale(0.899101 0.899101) rotate(0) translate(4 187.599)\">\n",
       "<title>Effective Graph</title>\n",
       "<polygon fill=\"white\" points=\"-4,4 -4,-187.599 236.24,-187.599 236.24,4 -4,4\" stroke=\"none\"/>\n",
       "<!-- 0 -->\n",
       "<g class=\"node\" id=\"node1\"><title>0</title>\n",
       "<ellipse cx=\"20\" cy=\"-163.599\" fill=\"white\" rx=\"20\" ry=\"20\" stroke=\"#00594c\" stroke-width=\"4\"/>\n",
       "</g>\n",
       "<!-- 1 -->\n",
       "<g class=\"node\" id=\"node2\"><title>1</title>\n",
       "<ellipse cx=\"56.72\" cy=\"-35.9554\" fill=\"white\" rx=\"20\" ry=\"20\" stroke=\"#00594c\" stroke-width=\"4\"/>\n",
       "</g>\n",
       "<!-- 0&#45;&gt;1 -->\n",
       "<g class=\"edge\" id=\"edge1\"><title>0-&gt;1</title>\n",
       "<path d=\"M25.577,-144.212C32.0204,-121.814 42.6337,-84.9211 49.6506,-60.5296\" fill=\"none\" stroke=\"black\" stroke-width=\"4\"/>\n",
       "<polygon fill=\"black\" points=\"51.3899,-60.8131 51.0905,-55.5241 48.0263,-59.8454 51.3899,-60.8131\" stroke=\"black\" stroke-width=\"4\"/>\n",
       "<text font-family=\"Times,serif\" font-size=\"14.00\" text-anchor=\"middle\" x=\"25.3638\" y=\"-105.171\">1.00</text>\n",
       "</g>\n",
       "<!-- 2 -->\n",
       "<g class=\"node\" id=\"node3\"><title>2</title>\n",
       "<ellipse cx=\"115.04\" cy=\"-131.688\" fill=\"white\" rx=\"20\" ry=\"20\" stroke=\"#00594c\" stroke-width=\"4\"/>\n",
       "</g>\n",
       "<!-- 0&#45;&gt;2 -->\n",
       "<g class=\"edge\" id=\"edge2\"><title>0-&gt;2</title>\n",
       "<path d=\"M39.2328,-157.141C54.1759,-152.124 74.9866,-145.136 91.0238,-139.752\" fill=\"none\" stroke=\"#a90533\" stroke-dasharray=\"5,2\" stroke-width=\"4\"/>\n",
       "<polygon fill=\"#a90533\" points=\"91.6529,-141.387 95.8358,-138.136 90.5388,-138.069 91.6529,-141.387\" stroke=\"#a90533\" stroke-width=\"4\"/>\n",
       "<text font-family=\"Times,serif\" font-size=\"14.00\" text-anchor=\"middle\" x=\"52.8783\" y=\"-151.246\">0.00</text>\n",
       "</g>\n",
       "<!-- 1&#45;&gt;2 -->\n",
       "<g class=\"edge\" id=\"edge3\"><title>1-&gt;2</title>\n",
       "<path d=\"M67.1464,-53.0705C76.7897,-68.8998 91.173,-92.5101 101.66,-109.724\" fill=\"none\" stroke=\"black\" stroke-width=\"4\"/>\n",
       "<polygon fill=\"black\" points=\"100.411,-111.039 104.507,-114.398 103.4,-109.218 100.411,-111.039\" stroke=\"black\" stroke-width=\"4\"/>\n",
       "<text font-family=\"Times,serif\" font-size=\"14.00\" text-anchor=\"middle\" x=\"72.1531\" y=\"-84.1974\">1.00</text>\n",
       "</g>\n",
       "<!-- 4 -->\n",
       "<g class=\"node\" id=\"node5\"><title>4</title>\n",
       "<ellipse cx=\"167.6\" cy=\"-20\" fill=\"white\" rx=\"20\" ry=\"20\" stroke=\"#00594c\" stroke-width=\"4\"/>\n",
       "</g>\n",
       "<!-- 1&#45;&gt;4 -->\n",
       "<g class=\"edge\" id=\"edge4\"><title>1-&gt;4</title>\n",
       "<path d=\"M76.5431,-33.1029C94.9555,-30.4534 122.457,-26.496 142.416,-23.6239\" fill=\"none\" stroke=\"black\" stroke-width=\"1.5\"/>\n",
       "<polygon fill=\"black\" points=\"142.875,-25.326 147.575,-22.8816 142.376,-21.8617 142.875,-25.326\" stroke=\"black\" stroke-width=\"1.5\"/>\n",
       "<text font-family=\"Times,serif\" font-size=\"14.00\" text-anchor=\"middle\" x=\"97.2298\" y=\"-31.1634\">0.38</text>\n",
       "</g>\n",
       "<!-- 3 -->\n",
       "<g class=\"node\" id=\"node4\"><title>3</title>\n",
       "<ellipse cx=\"212.24\" cy=\"-147.643\" fill=\"white\" rx=\"20\" ry=\"20\" stroke=\"#00594c\" stroke-width=\"4\"/>\n",
       "</g>\n",
       "<!-- 2&#45;&gt;3 -->\n",
       "<g class=\"edge\" id=\"edge5\"><title>2-&gt;3</title>\n",
       "<path d=\"M135.18,-134.994C150.267,-137.471 171.005,-140.875 187.168,-143.528\" fill=\"none\" stroke=\"black\" stroke-width=\"4\"/>\n",
       "<polygon fill=\"black\" points=\"187.241,-145.313 192.458,-144.396 187.808,-141.859 187.241,-145.313\" stroke=\"black\" stroke-width=\"4\"/>\n",
       "<text font-family=\"Times,serif\" font-size=\"14.00\" text-anchor=\"middle\" x=\"148.924\" y=\"-142.061\">1.00</text>\n",
       "</g>\n",
       "<!-- 2&#45;&gt;4 -->\n",
       "<g class=\"edge\" id=\"edge6\"><title>2-&gt;4</title>\n",
       "<path d=\"M123.719,-113.245C132.827,-93.8908 147.155,-63.4442 156.944,-42.6445\" fill=\"none\" stroke=\"black\" stroke-width=\"3.25\"/>\n",
       "<polygon fill=\"black\" points=\"158.537,-43.3691 159.082,-38.0998 155.37,-41.8787 158.537,-43.3691\" stroke=\"black\" stroke-width=\"3.25\"/>\n",
       "<text font-family=\"Times,serif\" font-size=\"14.00\" text-anchor=\"middle\" x=\"128.081\" y=\"-80.7447\">0.81</text>\n",
       "</g>\n",
       "<!-- 3&#45;&gt;4 -->\n",
       "<g class=\"edge\" id=\"edge7\"><title>3-&gt;4</title>\n",
       "<path d=\"M205.557,-128.534C197.7,-106.068 184.649,-68.7492 176.085,-44.2609\" fill=\"none\" stroke=\"black\" stroke-width=\"1.5\"/>\n",
       "<polygon fill=\"black\" points=\"177.631,-43.3821 174.329,-39.2401 174.328,-44.5376 177.631,-43.3821\" stroke=\"black\" stroke-width=\"1.5\"/>\n",
       "<text font-family=\"Times,serif\" font-size=\"14.00\" text-anchor=\"middle\" x=\"178.571\" y=\"-89.1974\">0.38</text>\n",
       "</g>\n",
       "</g>\n",
       "</svg>"
      ],
      "text/plain": [
       "<IPython.core.display.SVG object>"
      ]
     },
     "metadata": {
      "isolated": true
     },
     "output_type": "display_data"
    },
    {
     "data": {
      "text/plain": [
       "u'/Users/rionbr/Sites/CANA/tutorials/2019 - Effective Graph/figure-perturb/EG.svg'"
      ]
     },
     "execution_count": 5,
     "metadata": {},
     "output_type": "execute_result"
    }
   ],
   "source": [
    "E = graphviz.Digraph(name='Effective Graph', engine='neato')\n",
    "E.attr('graph', size='3,3', concentrate='false', simplify='false', overlap='false',splines='false', ratio='1')\n",
    "E.attr('node', pin='true', shape='circle', fixedsize='true', width='.55', color='#00594c', style='filled', fillcolor='#515660', penwidth='4', fontname='Helvetica', fontcolor='black',fontsize='12')\n",
    "E.attr('edge', arrowhead='normal', arrowsize='.5', color='black', penwidth='4')\n",
    "\n",
    "for nid,d in EG.nodes(data=True):\n",
    "    nid = str(nid)\n",
    "    label = '' #str(d['label'])\n",
    "    pos = d['pos']\n",
    "    fillcolor = 'white'\n",
    "    E.node(nid, label=label, pos=pos, fillcolor=fillcolor)\n",
    "\n",
    "max_penwidth = 4\n",
    "for uid,vid,d in EG.edges(data=True):\n",
    "    uid = str(uid)\n",
    "    vid = str(vid)\n",
    "    weight = '{:f}'.format(d['weight']*100)\n",
    "    penwidth = '%.2f' % ( d['weight']*max_penwidth )\n",
    "    label = \"{:.2f}\".format(d['weight'])\n",
    "    if d['weight'] > 0:\n",
    "        rgb = cmap(d['weight'])\n",
    "        hex = mpl.colors.rgb2hex(rgb)\n",
    "        E.edge(uid,vid,label=label,weight=weight, penwidth=penwidth)\n",
    "    else:\n",
    "        E.edge(uid,vid,label=label,style='dashed',color='#A90533')\n",
    "    \n",
    "display(SVG(E.pipe(format='svg')),metadata={'isolated':True})\n",
    "# Export\n",
    "E._format = 'svg'\n",
    "efile = u\"{path:s}/Figure-perturbations/EG\".format(path=os.getcwd())\n",
    "E.render(efile, cleanup=True)"
   ]
  },
  {
   "cell_type": "markdown",
   "metadata": {},
   "source": [
    "# Correlation Plot"
   ]
  },
  {
   "cell_type": "code",
   "execution_count": 7,
   "metadata": {},
   "outputs": [
    {
     "data": {
      "image/png": "[encoded data removed]",
      "text/plain": [
       "<Figure size 360x244.8 with 1 Axes>"
      ]
     },
     "metadata": {
      "needs_background": "light"
     },
     "output_type": "display_data"
    }
   ],
   "source": [
    "corr_mat  = np.load(\"Figure-perturbations/CorrelationMatrixN30K2B04.npy\")\n",
    "fig, ax = plt.subplots(1,1,figsize=(5,3.4))\n",
    "\n",
    "n_steps = 10\n",
    "colors = ['#A90533', 'blue', 'green']\n",
    "labels = ['Effective Graph', 'Interaction Graph', 'Bias Model']\n",
    "ls = ['-','--','-.']\n",
    "for ip in [0,1,2]:\n",
    "    corrmean = np.nanmean(corr_mat[ip], axis=(0,1))\n",
    "    corrstd = np.nanstd(corr_mat[ip], axis=(0,1))\n",
    "                        \n",
    "    ax.fill_between( np.arange(1,n_steps+1), corrmean-corrstd, corrmean+corrstd , color=colors[ip], alpha=0.1,\n",
    "            zorder=10-ip)                 \n",
    "    ax.plot(np.arange(1,n_steps+1), corrmean, c=colors[ip], label=labels[ip],\n",
    "            marker='o', ms=6, lw=3, ls=ls[ip], zorder=5-ip)\n",
    "    \n",
    "ax.axhline(0,c='#000000', lw=1, zorder=2)\n",
    "\n",
    "#ax.set_xlim(0.6,10.4)\n",
    "#ax.set_ylim(-.12,1.1)\n",
    "ax.set_title(\"Predictive Power\")\n",
    "ax.set_ylabel(\"Spearman's correlation\",fontsize=12)\n",
    "ax.set_xlabel(r'$n$ steps',fontsize=12)\n",
    "ax.set_xticks(np.arange(1,11,1))\n",
    "ax.grid(zorder=1)\n",
    "ax.legend(loc=0)\n",
    "\n",
    "plt.savefig(\"Figure-perturbations/perturb-models.svg\", dpi=150)\n",
    "plt.show()"
   ]
  },
  {
   "cell_type": "code",
   "execution_count": null,
   "metadata": {},
   "outputs": [],
   "source": []
  }
 ],
 "metadata": {
  "kernelspec": {
   "display_name": "Python 2",
   "language": "python",
   "name": "python2"
  },
  "language_info": {
   "codemirror_mode": {
    "name": "ipython",
    "version": 2
   },
   "file_extension": ".py",
   "mimetype": "text/x-python",
   "name": "python",
   "nbconvert_exporter": "python",
   "pygments_lexer": "ipython2",
   "version": "2.7.16"
  }
 },
 "nbformat": 4,
 "nbformat_minor": 2
}
